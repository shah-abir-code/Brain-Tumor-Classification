{
 "cells": [
  {
   "cell_type": "code",
   "execution_count": 1,
   "id": "0d49b2aa-44c5-489d-8208-617cc41fa40c",
   "metadata": {},
   "outputs": [
    {
     "name": "stdout",
     "output_type": "stream",
     "text": [
      "Path to dataset files: C:\\Users\\LENOVO\\.cache\\kagglehub\\datasets\\sartajbhuvaji\\brain-tumor-classification-mri\\versions\\3\n"
     ]
    }
   ],
   "source": [
    "import kagglehub\n",
    "\n",
    "# Download latest version\n",
    "path = kagglehub.dataset_download(\"sartajbhuvaji/brain-tumor-classification-mri\")\n",
    "\n",
    "print(\"Path to dataset files:\", path)"
   ]
  },
  {
   "cell_type": "code",
   "execution_count": 3,
   "id": "8e0b0286-90d6-4323-a662-0faaf268c1b9",
   "metadata": {},
   "outputs": [],
   "source": [
    "import os"
   ]
  },
  {
   "cell_type": "code",
   "execution_count": 4,
   "id": "61442c8b-629e-4785-81a1-0313cbf26bbe",
   "metadata": {},
   "outputs": [],
   "source": [
    "testing_path = os.path.join(path,os.listdir(path)[0])"
   ]
  },
  {
   "cell_type": "code",
   "execution_count": 7,
   "id": "d6eceb80-2515-4f78-82b4-c50c81113ef5",
   "metadata": {},
   "outputs": [],
   "source": [
    "training_path = os.path.join(path,os.listdir(path)[1])"
   ]
  },
  {
   "cell_type": "code",
   "execution_count": 9,
   "id": "e2a463ae-77e7-4f16-8c74-e7430f176b14",
   "metadata": {},
   "outputs": [
    {
     "data": {
      "text/plain": [
       "['glioma_tumor', 'meningioma_tumor', 'no_tumor', 'pituitary_tumor']"
      ]
     },
     "execution_count": 9,
     "metadata": {},
     "output_type": "execute_result"
    }
   ],
   "source": [
    "os.listdir(training_path)"
   ]
  },
  {
   "cell_type": "code",
   "execution_count": 11,
   "id": "9ab062a6-d6d7-40c9-a0b0-3934d976b2d3",
   "metadata": {},
   "outputs": [
    {
     "data": {
      "text/plain": [
       "['glioma_tumor', 'meningioma_tumor', 'no_tumor', 'pituitary_tumor']"
      ]
     },
     "execution_count": 11,
     "metadata": {},
     "output_type": "execute_result"
    }
   ],
   "source": [
    "os.listdir(testing_path)"
   ]
  },
  {
   "cell_type": "code",
   "execution_count": 13,
   "id": "4335f487-ee7d-45ea-80fd-53d75f74df9d",
   "metadata": {},
   "outputs": [],
   "source": [
    "from tensorflow import keras\n",
    "from tensorflow.keras import layers\n",
    "from tensorflow.keras.utils import image_dataset_from_directory"
   ]
  },
  {
   "cell_type": "code",
   "execution_count": 15,
   "id": "e238fad9-4b69-464f-b1bb-32692536d4f0",
   "metadata": {},
   "outputs": [
    {
     "name": "stdout",
     "output_type": "stream",
     "text": [
      "Found 2870 files belonging to 4 classes.\n",
      "Using 2296 files for training.\n"
     ]
    }
   ],
   "source": [
    "training_dataset = image_dataset_from_directory(training_path,color_mode='grayscale',batch_size=123,image_size=(128,128),\n",
    "                                                validation_split=0.20,subset='training',seed=123)"
   ]
  },
  {
   "cell_type": "code",
   "execution_count": 16,
   "id": "bb0ed18a-87dc-4a5f-be01-c4ee06a7091b",
   "metadata": {},
   "outputs": [
    {
     "name": "stdout",
     "output_type": "stream",
     "text": [
      "Found 2870 files belonging to 4 classes.\n",
      "Using 574 files for validation.\n"
     ]
    }
   ],
   "source": [
    "validation_dataset = image_dataset_from_directory(training_path,color_mode='grayscale',batch_size=123,image_size=(128,128),\n",
    "                                                validation_split=0.20,subset='validation',seed=123)"
   ]
  },
  {
   "cell_type": "code",
   "execution_count": 19,
   "id": "cd4f0a07-fabe-49a9-973a-318630d85bd3",
   "metadata": {},
   "outputs": [
    {
     "name": "stdout",
     "output_type": "stream",
     "text": [
      "Found 394 files belonging to 4 classes.\n"
     ]
    }
   ],
   "source": [
    "testing_dataset = image_dataset_from_directory(testing_path,color_mode='grayscale',batch_size=123,image_size=(128,128))"
   ]
  },
  {
   "cell_type": "code",
   "execution_count": 21,
   "id": "d7f4860b-6083-44e3-ac90-932b214d8b0b",
   "metadata": {},
   "outputs": [],
   "source": [
    "model = keras.models.Sequential([\n",
    "    layers.Input(shape=(128,128,1)),\n",
    "    layers.Rescaling(1./255),\n",
    "    layers.Conv2D(128,(3,3),strides=(1,1),activation='relu'),\n",
    "    layers.MaxPool2D(),\n",
    "    layers.Conv2D(64,(3,3),strides=(1,1),activation='relu'),\n",
    "    layers.MaxPool2D(),\n",
    "    layers.Flatten(),\n",
    "    layers.Dense(32,activation='relu'),\n",
    "    layers.Dense(4,activation='softmax')\n",
    "])"
   ]
  },
  {
   "cell_type": "code",
   "execution_count": 23,
   "id": "2a8d1d68-dc8e-477a-a7c4-198362054cd9",
   "metadata": {},
   "outputs": [],
   "source": [
    "model.compile(optimizer='adam',loss='sparse_categorical_crossentropy',metrics=['accuracy'])"
   ]
  },
  {
   "cell_type": "code",
   "execution_count": 25,
   "id": "b3f53799-d395-428f-876d-385f33f0d5c8",
   "metadata": {},
   "outputs": [],
   "source": [
    "from tensorflow.keras.callbacks import EarlyStopping\n",
    "early_stop = EarlyStopping(monitor='val_loss',patience=5,restore_best_weights=True)"
   ]
  },
  {
   "cell_type": "code",
   "execution_count": 27,
   "id": "32e847c0-6400-4309-ae9a-24425d5e1a5b",
   "metadata": {},
   "outputs": [
    {
     "name": "stdout",
     "output_type": "stream",
     "text": [
      "Epoch 1/15\n",
      "\u001b[1m19/19\u001b[0m \u001b[32m━━━━━━━━━━━━━━━━━━━━\u001b[0m\u001b[37m\u001b[0m \u001b[1m142s\u001b[0m 7s/step - accuracy: 0.4878 - loss: 1.1548 - val_accuracy: 0.5784 - val_loss: 0.9275\n",
      "Epoch 2/15\n",
      "\u001b[1m19/19\u001b[0m \u001b[32m━━━━━━━━━━━━━━━━━━━━\u001b[0m\u001b[37m\u001b[0m \u001b[1m135s\u001b[0m 7s/step - accuracy: 0.6424 - loss: 0.8318 - val_accuracy: 0.6951 - val_loss: 0.7501\n",
      "Epoch 3/15\n",
      "\u001b[1m19/19\u001b[0m \u001b[32m━━━━━━━━━━━━━━━━━━━━\u001b[0m\u001b[37m\u001b[0m \u001b[1m139s\u001b[0m 7s/step - accuracy: 0.7613 - loss: 0.6058 - val_accuracy: 0.7300 - val_loss: 0.6249\n",
      "Epoch 4/15\n",
      "\u001b[1m19/19\u001b[0m \u001b[32m━━━━━━━━━━━━━━━━━━━━\u001b[0m\u001b[37m\u001b[0m \u001b[1m132s\u001b[0m 7s/step - accuracy: 0.8301 - loss: 0.4300 - val_accuracy: 0.8118 - val_loss: 0.4739\n",
      "Epoch 5/15\n",
      "\u001b[1m19/19\u001b[0m \u001b[32m━━━━━━━━━━━━━━━━━━━━\u001b[0m\u001b[37m\u001b[0m \u001b[1m132s\u001b[0m 7s/step - accuracy: 0.8733 - loss: 0.3334 - val_accuracy: 0.8223 - val_loss: 0.4639\n",
      "Epoch 6/15\n",
      "\u001b[1m19/19\u001b[0m \u001b[32m━━━━━━━━━━━━━━━━━━━━\u001b[0m\u001b[37m\u001b[0m \u001b[1m129s\u001b[0m 7s/step - accuracy: 0.9233 - loss: 0.2273 - val_accuracy: 0.8310 - val_loss: 0.4298\n",
      "Epoch 7/15\n",
      "\u001b[1m19/19\u001b[0m \u001b[32m━━━━━━━━━━━━━━━━━━━━\u001b[0m\u001b[37m\u001b[0m \u001b[1m142s\u001b[0m 7s/step - accuracy: 0.9551 - loss: 0.1568 - val_accuracy: 0.8258 - val_loss: 0.4431\n",
      "Epoch 8/15\n",
      "\u001b[1m19/19\u001b[0m \u001b[32m━━━━━━━━━━━━━━━━━━━━\u001b[0m\u001b[37m\u001b[0m \u001b[1m129s\u001b[0m 7s/step - accuracy: 0.9752 - loss: 0.0991 - val_accuracy: 0.8206 - val_loss: 0.5469\n",
      "Epoch 9/15\n",
      "\u001b[1m19/19\u001b[0m \u001b[32m━━━━━━━━━━━━━━━━━━━━\u001b[0m\u001b[37m\u001b[0m \u001b[1m144s\u001b[0m 7s/step - accuracy: 0.9551 - loss: 0.1189 - val_accuracy: 0.7979 - val_loss: 0.6268\n",
      "Epoch 10/15\n",
      "\u001b[1m19/19\u001b[0m \u001b[32m━━━━━━━━━━━━━━━━━━━━\u001b[0m\u001b[37m\u001b[0m \u001b[1m133s\u001b[0m 7s/step - accuracy: 0.9612 - loss: 0.1123 - val_accuracy: 0.8554 - val_loss: 0.4579\n",
      "Epoch 11/15\n",
      "\u001b[1m19/19\u001b[0m \u001b[32m━━━━━━━━━━━━━━━━━━━━\u001b[0m\u001b[37m\u001b[0m \u001b[1m129s\u001b[0m 7s/step - accuracy: 0.9869 - loss: 0.0543 - val_accuracy: 0.8606 - val_loss: 0.4191\n",
      "Epoch 12/15\n",
      "\u001b[1m19/19\u001b[0m \u001b[32m━━━━━━━━━━━━━━━━━━━━\u001b[0m\u001b[37m\u001b[0m \u001b[1m131s\u001b[0m 7s/step - accuracy: 0.9974 - loss: 0.0213 - val_accuracy: 0.8624 - val_loss: 0.4882\n",
      "Epoch 13/15\n",
      "\u001b[1m19/19\u001b[0m \u001b[32m━━━━━━━━━━━━━━━━━━━━\u001b[0m\u001b[37m\u001b[0m \u001b[1m131s\u001b[0m 7s/step - accuracy: 0.9987 - loss: 0.0167 - val_accuracy: 0.8537 - val_loss: 0.5076\n",
      "Epoch 14/15\n",
      "\u001b[1m19/19\u001b[0m \u001b[32m━━━━━━━━━━━━━━━━━━━━\u001b[0m\u001b[37m\u001b[0m \u001b[1m141s\u001b[0m 7s/step - accuracy: 0.9983 - loss: 0.0143 - val_accuracy: 0.8693 - val_loss: 0.5016\n",
      "Epoch 15/15\n",
      "\u001b[1m19/19\u001b[0m \u001b[32m━━━━━━━━━━━━━━━━━━━━\u001b[0m\u001b[37m\u001b[0m \u001b[1m131s\u001b[0m 7s/step - accuracy: 1.0000 - loss: 0.0074 - val_accuracy: 0.8641 - val_loss: 0.5299\n"
     ]
    },
    {
     "data": {
      "text/plain": [
       "<keras.src.callbacks.history.History at 0x1ba29853d40>"
      ]
     },
     "execution_count": 27,
     "metadata": {},
     "output_type": "execute_result"
    }
   ],
   "source": [
    "model.fit(training_dataset,epochs=15,batch_size=123,validation_data=validation_dataset,callbacks=early_stop)"
   ]
  },
  {
   "cell_type": "code",
   "execution_count": 29,
   "id": "0ed2a531-5f48-4041-a5f9-fcaa2d47e4aa",
   "metadata": {},
   "outputs": [
    {
     "name": "stdout",
     "output_type": "stream",
     "text": [
      "\u001b[1m4/4\u001b[0m \u001b[32m━━━━━━━━━━━━━━━━━━━━\u001b[0m\u001b[37m\u001b[0m \u001b[1m4s\u001b[0m 879ms/step - accuracy: 0.6853 - loss: 3.1526\n"
     ]
    },
    {
     "data": {
      "text/plain": [
       "[3.152571439743042, 0.6852791905403137]"
      ]
     },
     "execution_count": 29,
     "metadata": {},
     "output_type": "execute_result"
    }
   ],
   "source": [
    "model.evaluate(testing_dataset)"
   ]
  },
  {
   "cell_type": "code",
   "execution_count": 31,
   "id": "96b8ccd2-3ec0-4248-94e3-11a2c044a567",
   "metadata": {},
   "outputs": [],
   "source": [
    "data_aug = keras.Sequential([\n",
    "    layers.RandomFlip(\"horizontal\"),\n",
    "    layers.RandomRotation(0.05),\n",
    "    layers.RandomZoom(0.1),\n",
    "])"
   ]
  },
  {
   "cell_type": "code",
   "execution_count": 33,
   "id": "02255dac-b2dc-4402-90b5-55eeb49f1e86",
   "metadata": {},
   "outputs": [
    {
     "name": "stderr",
     "output_type": "stream",
     "text": [
      "E:\\abir\\anaconda\\Lib\\site-packages\\keras\\src\\layers\\preprocessing\\tf_data_layer.py:19: UserWarning: Do not pass an `input_shape`/`input_dim` argument to a layer. When using Sequential models, prefer using an `Input(shape)` object as the first layer in the model instead.\n",
      "  super().__init__(**kwargs)\n"
     ]
    }
   ],
   "source": [
    "model = keras.models.Sequential([\n",
    "    data_aug,\n",
    "    layers.Rescaling(1./255,input_shape=(128,128,1)),\n",
    "    layers.Conv2D(128,(3,3),strides=(1,1),activation='relu',padding='same'),\n",
    "    layers.MaxPool2D(),\n",
    "    layers.Conv2D(64,(3,3),strides=(1,1),activation='relu',padding='same'),\n",
    "    layers.MaxPool2D(),\n",
    "    layers.Conv2D(32,(3,3),strides=(1,1),activation='relu',padding='same'),\n",
    "    layers.MaxPool2D(),\n",
    "    layers.Flatten(),\n",
    "    layers.Dense(32,activation='relu'),\n",
    "    layers.Dense(4,activation='softmax')\n",
    "])"
   ]
  },
  {
   "cell_type": "code",
   "execution_count": 35,
   "id": "6beecae0-d8fb-470d-b611-361559bb8eb2",
   "metadata": {},
   "outputs": [],
   "source": [
    "model.compile(optimizer='adam',loss='sparse_categorical_crossentropy',metrics=['accuracy'])"
   ]
  },
  {
   "cell_type": "code",
   "execution_count": 37,
   "id": "11a31472-50d7-41d7-92a3-a620c6f6d5c6",
   "metadata": {},
   "outputs": [
    {
     "name": "stdout",
     "output_type": "stream",
     "text": [
      "Epoch 1/15\n",
      "\u001b[1m19/19\u001b[0m \u001b[32m━━━━━━━━━━━━━━━━━━━━\u001b[0m\u001b[37m\u001b[0m \u001b[1m142s\u001b[0m 7s/step - accuracy: 0.4085 - loss: 1.2699\n",
      "Epoch 2/15\n"
     ]
    },
    {
     "name": "stderr",
     "output_type": "stream",
     "text": [
      "E:\\abir\\anaconda\\Lib\\site-packages\\keras\\src\\callbacks\\early_stopping.py:99: UserWarning: Early stopping conditioned on metric `val_loss` which is not available. Available metrics are: accuracy,loss\n",
      "  current = self.get_monitor_value(logs)\n"
     ]
    },
    {
     "name": "stdout",
     "output_type": "stream",
     "text": [
      "\u001b[1m19/19\u001b[0m \u001b[32m━━━━━━━━━━━━━━━━━━━━\u001b[0m\u001b[37m\u001b[0m \u001b[1m136s\u001b[0m 7s/step - accuracy: 0.5048 - loss: 1.1292\n",
      "Epoch 3/15\n",
      "\u001b[1m19/19\u001b[0m \u001b[32m━━━━━━━━━━━━━━━━━━━━\u001b[0m\u001b[37m\u001b[0m \u001b[1m133s\u001b[0m 7s/step - accuracy: 0.5588 - loss: 1.0180\n",
      "Epoch 4/15\n",
      "\u001b[1m19/19\u001b[0m \u001b[32m━━━━━━━━━━━━━━━━━━━━\u001b[0m\u001b[37m\u001b[0m \u001b[1m131s\u001b[0m 7s/step - accuracy: 0.6564 - loss: 0.8373\n",
      "Epoch 5/15\n",
      "\u001b[1m19/19\u001b[0m \u001b[32m━━━━━━━━━━━━━━━━━━━━\u001b[0m\u001b[37m\u001b[0m \u001b[1m142s\u001b[0m 7s/step - accuracy: 0.6912 - loss: 0.7582\n",
      "Epoch 6/15\n",
      "\u001b[1m19/19\u001b[0m \u001b[32m━━━━━━━━━━━━━━━━━━━━\u001b[0m\u001b[37m\u001b[0m \u001b[1m133s\u001b[0m 7s/step - accuracy: 0.7326 - loss: 0.6615\n",
      "Epoch 7/15\n",
      "\u001b[1m19/19\u001b[0m \u001b[32m━━━━━━━━━━━━━━━━━━━━\u001b[0m\u001b[37m\u001b[0m \u001b[1m132s\u001b[0m 7s/step - accuracy: 0.7517 - loss: 0.6180\n",
      "Epoch 8/15\n",
      "\u001b[1m19/19\u001b[0m \u001b[32m━━━━━━━━━━━━━━━━━━━━\u001b[0m\u001b[37m\u001b[0m \u001b[1m132s\u001b[0m 7s/step - accuracy: 0.7718 - loss: 0.5766\n",
      "Epoch 9/15\n",
      "\u001b[1m19/19\u001b[0m \u001b[32m━━━━━━━━━━━━━━━━━━━━\u001b[0m\u001b[37m\u001b[0m \u001b[1m134s\u001b[0m 7s/step - accuracy: 0.7844 - loss: 0.5480\n",
      "Epoch 10/15\n",
      "\u001b[1m19/19\u001b[0m \u001b[32m━━━━━━━━━━━━━━━━━━━━\u001b[0m\u001b[37m\u001b[0m \u001b[1m143s\u001b[0m 7s/step - accuracy: 0.8044 - loss: 0.4974\n",
      "Epoch 11/15\n",
      "\u001b[1m19/19\u001b[0m \u001b[32m━━━━━━━━━━━━━━━━━━━━\u001b[0m\u001b[37m\u001b[0m \u001b[1m134s\u001b[0m 7s/step - accuracy: 0.8149 - loss: 0.4891\n",
      "Epoch 12/15\n",
      "\u001b[1m19/19\u001b[0m \u001b[32m━━━━━━━━━━━━━━━━━━━━\u001b[0m\u001b[37m\u001b[0m \u001b[1m926s\u001b[0m 51s/step - accuracy: 0.8127 - loss: 0.4492\n",
      "Epoch 13/15\n",
      "\u001b[1m19/19\u001b[0m \u001b[32m━━━━━━━━━━━━━━━━━━━━\u001b[0m\u001b[37m\u001b[0m \u001b[1m112s\u001b[0m 6s/step - accuracy: 0.8288 - loss: 0.4393\n",
      "Epoch 14/15\n",
      "\u001b[1m19/19\u001b[0m \u001b[32m━━━━━━━━━━━━━━━━━━━━\u001b[0m\u001b[37m\u001b[0m \u001b[1m110s\u001b[0m 6s/step - accuracy: 0.8419 - loss: 0.4111\n",
      "Epoch 15/15\n",
      "\u001b[1m19/19\u001b[0m \u001b[32m━━━━━━━━━━━━━━━━━━━━\u001b[0m\u001b[37m\u001b[0m \u001b[1m140s\u001b[0m 6s/step - accuracy: 0.8458 - loss: 0.4121\n"
     ]
    },
    {
     "data": {
      "text/plain": [
       "<keras.src.callbacks.history.History at 0x1ba2d003200>"
      ]
     },
     "execution_count": 37,
     "metadata": {},
     "output_type": "execute_result"
    }
   ],
   "source": [
    "model.fit(training_dataset,epochs=15,batch_size=123,callbacks=early_stop)"
   ]
  },
  {
   "cell_type": "code",
   "execution_count": 41,
   "id": "636eea49-9946-4aaf-bdc6-3185ef3a913b",
   "metadata": {},
   "outputs": [
    {
     "name": "stdout",
     "output_type": "stream",
     "text": [
      "\u001b[1m4/4\u001b[0m \u001b[32m━━━━━━━━━━━━━━━━━━━━\u001b[0m\u001b[37m\u001b[0m \u001b[1m3s\u001b[0m 628ms/step - accuracy: 0.4822 - loss: 2.4754\n"
     ]
    },
    {
     "data": {
      "text/plain": [
       "[2.47542667388916, 0.4822334945201874]"
      ]
     },
     "execution_count": 41,
     "metadata": {},
     "output_type": "execute_result"
    }
   ],
   "source": [
    "model.evaluate(testing_dataset)"
   ]
  },
  {
   "cell_type": "code",
   "execution_count": 43,
   "id": "0bfee2e4-541c-4f1c-9c05-082f4d6a4ad8",
   "metadata": {},
   "outputs": [],
   "source": [
    "from tensorflow.keras.applications import ResNet50"
   ]
  },
  {
   "cell_type": "code",
   "execution_count": 45,
   "id": "61fa9488-f0ba-404f-802a-6785f9a7ba7f",
   "metadata": {},
   "outputs": [],
   "source": [
    "base_model = ResNet50(weights='imagenet', include_top=False, input_shape=(128,128,3))"
   ]
  },
  {
   "cell_type": "code",
   "execution_count": 47,
   "id": "36dac005-8a1e-4405-b476-bc1f5d7b113d",
   "metadata": {},
   "outputs": [],
   "source": [
    "base_model.trainable = False"
   ]
  },
  {
   "cell_type": "code",
   "execution_count": 49,
   "id": "39dcbd6e-933a-4e00-b02a-b570c8e85c65",
   "metadata": {},
   "outputs": [
    {
     "name": "stdout",
     "output_type": "stream",
     "text": [
      "Found 2870 files belonging to 4 classes.\n",
      "Using 2296 files for training.\n"
     ]
    }
   ],
   "source": [
    "training_dataset_2 = image_dataset_from_directory(training_path,color_mode='rgb',batch_size=123,image_size=(128,128),\n",
    "                                                validation_split=0.20,subset='training',seed=123)"
   ]
  },
  {
   "cell_type": "code",
   "execution_count": 51,
   "id": "13a3c1d1-54f9-4b41-84ab-3e530add88e3",
   "metadata": {},
   "outputs": [
    {
     "name": "stdout",
     "output_type": "stream",
     "text": [
      "Found 2870 files belonging to 4 classes.\n",
      "Using 574 files for validation.\n"
     ]
    }
   ],
   "source": [
    "validation_dataset_2 = image_dataset_from_directory(training_path,color_mode='rgb',batch_size=123,image_size=(128,128),\n",
    "                                                validation_split=0.20,subset='validation',seed=123)"
   ]
  },
  {
   "cell_type": "code",
   "execution_count": 53,
   "id": "b582e517-1e2f-45cb-beb5-c4bed54bca18",
   "metadata": {},
   "outputs": [
    {
     "name": "stdout",
     "output_type": "stream",
     "text": [
      "Found 394 files belonging to 4 classes.\n"
     ]
    }
   ],
   "source": [
    "testing_dataset_2 = image_dataset_from_directory(testing_path,color_mode='rgb',batch_size=123,image_size=(128,128))"
   ]
  },
  {
   "cell_type": "code",
   "execution_count": 92,
   "id": "19f498fd-9469-4b94-a89a-1995da942481",
   "metadata": {},
   "outputs": [],
   "source": [
    "model_premodel = keras.models.Sequential([\n",
    "    base_model,\n",
    "    layers.GlobalAveragePooling2D(),\n",
    "    layers.Dense(128, activation='relu'),\n",
    "    layers.Dropout(0.5),\n",
    "    layers.Dense(4, activation='softmax')  # single-label classification\n",
    "])\n"
   ]
  },
  {
   "cell_type": "code",
   "execution_count": 94,
   "id": "ed21f155-08c5-41b0-be12-d3db363466c4",
   "metadata": {},
   "outputs": [],
   "source": [
    "model_premodel.compile(optimizer='adam',\n",
    "              loss='sparse_categorical_crossentropy',\n",
    "              metrics=['accuracy'])\n"
   ]
  },
  {
   "cell_type": "code",
   "execution_count": 39,
   "id": "c4cf8f8d-b297-4b48-b3ec-36d14c0a2450",
   "metadata": {},
   "outputs": [
    {
     "ename": "NameError",
     "evalue": "name 'model_premodel' is not defined",
     "output_type": "error",
     "traceback": [
      "\u001b[1;31m---------------------------------------------------------------------------\u001b[0m",
      "\u001b[1;31mNameError\u001b[0m                                 Traceback (most recent call last)",
      "Cell \u001b[1;32mIn[39], line 1\u001b[0m\n\u001b[1;32m----> 1\u001b[0m model_premodel\u001b[38;5;241m.\u001b[39mfit(\n\u001b[0;32m      2\u001b[0m     training_dataset_2,\n\u001b[0;32m      3\u001b[0m     validation_data\u001b[38;5;241m=\u001b[39mvalidation_dataset_2,\n\u001b[0;32m      4\u001b[0m     epochs\u001b[38;5;241m=\u001b[39m\u001b[38;5;241m15\u001b[39m,\n\u001b[0;32m      5\u001b[0m     callbacks\u001b[38;5;241m=\u001b[39mearly_stop\n\u001b[0;32m      6\u001b[0m )\n",
      "\u001b[1;31mNameError\u001b[0m: name 'model_premodel' is not defined"
     ]
    }
   ],
   "source": [
    "model_premodel.fit(\n",
    "    training_dataset_2,\n",
    "    validation_data=validation_dataset_2,\n",
    "    epochs=15,\n",
    "    callbacks=early_stop\n",
    ")"
   ]
  },
  {
   "cell_type": "code",
   "execution_count": 110,
   "id": "5fc925d6-6fea-4ab5-81bf-552e9bc8e275",
   "metadata": {},
   "outputs": [
    {
     "name": "stdout",
     "output_type": "stream",
     "text": [
      "\u001b[1m4/4\u001b[0m \u001b[32m━━━━━━━━━━━━━━━━━━━━\u001b[0m\u001b[37m\u001b[0m \u001b[1m11s\u001b[0m 3s/step - accuracy: 0.7513 - loss: 1.4453\n"
     ]
    },
    {
     "data": {
      "text/plain": [
       "[1.4452996253967285, 0.7512690424919128]"
      ]
     },
     "execution_count": 110,
     "metadata": {},
     "output_type": "execute_result"
    }
   ],
   "source": [
    "model_premodel.evaluate(testing_dataset_2)"
   ]
  },
  {
   "cell_type": "code",
   "execution_count": 55,
   "id": "ea97a535-407a-4b6d-ba21-21368585fec0",
   "metadata": {},
   "outputs": [],
   "source": [
    "model_premodel_aug = keras.models.Sequential([\n",
    "    data_aug,\n",
    "    base_model,\n",
    "    layers.GlobalAveragePooling2D(),\n",
    "    layers.Dense(128, activation='relu'),\n",
    "    layers.Dropout(0.5),\n",
    "    layers.Dense(4, activation='softmax')  # single-label classification\n",
    "])"
   ]
  },
  {
   "cell_type": "code",
   "execution_count": 57,
   "id": "cefaffce-5493-48d7-8dfe-3858921d26f9",
   "metadata": {},
   "outputs": [],
   "source": [
    "model_premodel_aug.compile(optimizer='adam',\n",
    "              loss='sparse_categorical_crossentropy',\n",
    "              metrics=['accuracy'])\n"
   ]
  },
  {
   "cell_type": "code",
   "execution_count": 59,
   "id": "510d7a94-d474-4c71-b1e1-6df79e068719",
   "metadata": {},
   "outputs": [
    {
     "name": "stdout",
     "output_type": "stream",
     "text": [
      "Epoch 1/15\n",
      "\u001b[1m19/19\u001b[0m \u001b[32m━━━━━━━━━━━━━━━━━━━━\u001b[0m\u001b[37m\u001b[0m \u001b[1m99s\u001b[0m 5s/step - accuracy: 0.5710 - loss: 1.1284 - val_accuracy: 0.7317 - val_loss: 0.6192\n",
      "Epoch 2/15\n",
      "\u001b[1m19/19\u001b[0m \u001b[32m━━━━━━━━━━━━━━━━━━━━\u001b[0m\u001b[37m\u001b[0m \u001b[1m88s\u001b[0m 5s/step - accuracy: 0.7387 - loss: 0.6529 - val_accuracy: 0.7404 - val_loss: 0.6631\n",
      "Epoch 3/15\n",
      "\u001b[1m19/19\u001b[0m \u001b[32m━━━━━━━━━━━━━━━━━━━━\u001b[0m\u001b[37m\u001b[0m \u001b[1m142s\u001b[0m 5s/step - accuracy: 0.7779 - loss: 0.5656 - val_accuracy: 0.8031 - val_loss: 0.4961\n",
      "Epoch 4/15\n",
      "\u001b[1m19/19\u001b[0m \u001b[32m━━━━━━━━━━━━━━━━━━━━\u001b[0m\u001b[37m\u001b[0m \u001b[1m87s\u001b[0m 5s/step - accuracy: 0.7970 - loss: 0.5124 - val_accuracy: 0.8136 - val_loss: 0.4952\n",
      "Epoch 5/15\n",
      "\u001b[1m19/19\u001b[0m \u001b[32m━━━━━━━━━━━━━━━━━━━━\u001b[0m\u001b[37m\u001b[0m \u001b[1m88s\u001b[0m 5s/step - accuracy: 0.8031 - loss: 0.4805 - val_accuracy: 0.8101 - val_loss: 0.5021\n"
     ]
    },
    {
     "data": {
      "text/plain": [
       "<keras.src.callbacks.history.History at 0x1ba297dd1c0>"
      ]
     },
     "execution_count": 59,
     "metadata": {},
     "output_type": "execute_result"
    }
   ],
   "source": [
    "model_premodel_aug.fit(training_dataset_2,validation_data=validation_dataset_2,epochs=15,callbacks=early_stop)"
   ]
  },
  {
   "cell_type": "code",
   "execution_count": 61,
   "id": "d9f8248e-4723-4915-898e-16e2424e84c8",
   "metadata": {},
   "outputs": [
    {
     "name": "stdout",
     "output_type": "stream",
     "text": [
      "\u001b[1m4/4\u001b[0m \u001b[32m━━━━━━━━━━━━━━━━━━━━\u001b[0m\u001b[37m\u001b[0m \u001b[1m18s\u001b[0m 4s/step - accuracy: 0.4594 - loss: 1.5798\n"
     ]
    },
    {
     "data": {
      "text/plain": [
       "[1.579785704612732, 0.4593908488750458]"
      ]
     },
     "execution_count": 61,
     "metadata": {},
     "output_type": "execute_result"
    }
   ],
   "source": [
    "model_premodel_aug.evaluate(testing_dataset_2)"
   ]
  },
  {
   "cell_type": "code",
   "execution_count": 63,
   "id": "383c0880-4722-49fb-890f-450414f07cfa",
   "metadata": {},
   "outputs": [],
   "source": [
    "base_model.trainable = True\n",
    "for layer in base_model.layers[:-50]:\n",
    "    layer.trainable = False"
   ]
  },
  {
   "cell_type": "code",
   "execution_count": 65,
   "id": "9855165c-3ff6-415b-aaea-7637287115de",
   "metadata": {},
   "outputs": [],
   "source": [
    "data_aug_2 = data_augmentation = keras.Sequential([\n",
    "    layers.RandomFlip(\"horizontal\"),\n",
    "    layers.RandomRotation(0.2),\n",
    "    layers.RandomZoom(0.2),\n",
    "    layers.RandomContrast(0.2),\n",
    "])"
   ]
  },
  {
   "cell_type": "code",
   "execution_count": 67,
   "id": "4310adf6-dee6-48d3-b4e1-bde596deb0b6",
   "metadata": {},
   "outputs": [],
   "source": [
    "model_premodel_aug_2 = keras.models.Sequential([\n",
    "    data_aug,\n",
    "    base_model,\n",
    "    layers.GlobalAveragePooling2D(),\n",
    "    layers.Dense(128, activation='relu'),\n",
    "    layers.Dropout(0.5),\n",
    "    layers.Dense(4, activation='softmax')  # single-label classification\n",
    "])"
   ]
  },
  {
   "cell_type": "code",
   "execution_count": 71,
   "id": "4e5dc986-d159-4080-b2ce-7b78dc78de62",
   "metadata": {},
   "outputs": [],
   "source": [
    "model_premodel_aug_2.compile(optimizer='adam',\n",
    "              loss='sparse_categorical_crossentropy',\n",
    "              metrics=['accuracy'])\n"
   ]
  },
  {
   "cell_type": "code",
   "execution_count": null,
   "id": "dcda4cb2-b4e7-4e5a-8b67-9052f568faf3",
   "metadata": {},
   "outputs": [
    {
     "name": "stdout",
     "output_type": "stream",
     "text": [
      "Epoch 1/15\n",
      "\u001b[1m 4/19\u001b[0m \u001b[32m━━━━\u001b[0m\u001b[37m━━━━━━━━━━━━━━━━\u001b[0m \u001b[1m2:32\u001b[0m 10s/step - accuracy: 0.4223 - loss: 1.6899"
     ]
    }
   ],
   "source": [
    "model_premodel_aug_2.fit(training_dataset_2,validation_data=validation_dataset_2,epochs=15,callbacks=early_stop)"
   ]
  },
  {
   "cell_type": "code",
   "execution_count": null,
   "id": "0737fdce-4e80-4047-9af1-23d2391348d4",
   "metadata": {},
   "outputs": [],
   "source": []
  }
 ],
 "metadata": {
  "kernelspec": {
   "display_name": "Python 3 (ipykernel)",
   "language": "python",
   "name": "python3"
  },
  "language_info": {
   "codemirror_mode": {
    "name": "ipython",
    "version": 3
   },
   "file_extension": ".py",
   "mimetype": "text/x-python",
   "name": "python",
   "nbconvert_exporter": "python",
   "pygments_lexer": "ipython3",
   "version": "3.12.7"
  }
 },
 "nbformat": 4,
 "nbformat_minor": 5
}
